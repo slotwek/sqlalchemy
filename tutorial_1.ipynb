{
 "cells": [
  {
   "cell_type": "markdown",
   "id": "2a84f653",
   "metadata": {},
   "source": [
    "# Load libraries"
   ]
  },
  {
   "cell_type": "code",
   "execution_count": 1,
   "id": "e47cf4e0",
   "metadata": {},
   "outputs": [
    {
     "data": {
      "text/plain": [
       "'1.4.39'"
      ]
     },
     "execution_count": 1,
     "metadata": {},
     "output_type": "execute_result"
    }
   ],
   "source": [
    "import sqlalchemy\n",
    "sqlalchemy.__version__"
   ]
  },
  {
   "cell_type": "markdown",
   "id": "646852c8",
   "metadata": {},
   "source": [
    "# Create SQLite engine\n",
    "- more about connecting to databases here: https://docs.sqlalchemy.org/en/14/core/engines.html#database-urls"
   ]
  },
  {
   "cell_type": "code",
   "execution_count": 3,
   "id": "59504b25",
   "metadata": {},
   "outputs": [],
   "source": [
    "import sqlalchemy as db\n",
    "\n",
    "engine = db.create_engine('sqlite:///european_database.sqlite')\n",
    "conn = engine.connect()"
   ]
  },
  {
   "cell_type": "code",
   "execution_count": 6,
   "id": "17644054",
   "metadata": {},
   "outputs": [],
   "source": [
    "metadata = db.MetaData()   # extracting the metadata\n",
    "division = db.Table('divisions', metadata, autoload=True, autoload_with=engine)   # Table object"
   ]
  },
  {
   "cell_type": "code",
   "execution_count": 7,
   "id": "37c64243",
   "metadata": {},
   "outputs": [
    {
     "name": "stdout",
     "output_type": "stream",
     "text": [
      "Table('divisions', MetaData(), Column('division', TEXT(), table=<divisions>), Column('name', TEXT(), table=<divisions>), Column('country', TEXT(), table=<divisions>), schema=None)\n"
     ]
    }
   ],
   "source": [
    "print(repr(metadata.tables['divisions']))"
   ]
  },
  {
   "cell_type": "code",
   "execution_count": 8,
   "id": "1518ff82",
   "metadata": {},
   "outputs": [
    {
     "name": "stdout",
     "output_type": "stream",
     "text": [
      "['division', 'name', 'country']\n"
     ]
    }
   ],
   "source": [
    "# print column names:\n",
    "print(division.columns.keys())"
   ]
  },
  {
   "cell_type": "markdown",
   "id": "89a94ef4",
   "metadata": {},
   "source": [
    "## Simple SQL query"
   ]
  },
  {
   "cell_type": "code",
   "execution_count": 9,
   "id": "313ae1ff",
   "metadata": {},
   "outputs": [
    {
     "name": "stdout",
     "output_type": "stream",
     "text": [
      "SELECT divisions.division, divisions.name, divisions.country \n",
      "FROM divisions\n"
     ]
    }
   ],
   "source": [
    "query = division.select()  # ==> SELECT * FROM divisions\n",
    "print(query)"
   ]
  },
  {
   "cell_type": "code",
   "execution_count": 12,
   "id": "63f999cf",
   "metadata": {},
   "outputs": [
    {
     "name": "stdout",
     "output_type": "stream",
     "text": [
      "SELECT divisions.division, divisions.name, divisions.country \n",
      "FROM divisions\n"
     ]
    }
   ],
   "source": [
    "# same as above\n",
    "print(db.select([division]))"
   ]
  },
  {
   "cell_type": "markdown",
   "id": "d1c4ab14",
   "metadata": {},
   "source": [
    "## SQL query result\n",
    "\n",
    "We will now execute the query using the connection object and extract the first five rows. \n",
    "- fetchone(): it will extract a single row at a time.\n",
    "- fetchmany(n): it will extract the n number of rows at a time.\n",
    "- fetchall(): it will extract all of the rows.  \n"
   ]
  },
  {
   "cell_type": "code",
   "execution_count": 13,
   "id": "d6634d0e",
   "metadata": {},
   "outputs": [
    {
     "name": "stdout",
     "output_type": "stream",
     "text": [
      "[('B1', 'Division 1A', 'Belgium'), ('D1', 'Bundesliga', 'Deutschland'), ('D2', '2. Bundesliga', 'Deutschland'), ('E0', 'Premier League', 'England'), ('E1', 'EFL Championship', 'England')]\n"
     ]
    }
   ],
   "source": [
    "exe = conn.execute(query)   # executing the query\n",
    "result = exe.fetchmany(5)   # etracting top 5 results\n",
    "print(result)"
   ]
  },
  {
   "cell_type": "markdown",
   "id": "a4aaf542",
   "metadata": {},
   "source": [
    "# Examples:"
   ]
  },
  {
   "cell_type": "markdown",
   "id": "68fe7bf0",
   "metadata": {},
   "source": [
    "## Creating tables"
   ]
  },
  {
   "cell_type": "code",
   "execution_count": 14,
   "id": "9f6a9a80",
   "metadata": {},
   "outputs": [],
   "source": [
    "engine = db.create_engine('sqlite:///datacamp.sqlite')"
   ]
  },
  {
   "cell_type": "code",
   "execution_count": 15,
   "id": "27299c7a",
   "metadata": {},
   "outputs": [],
   "source": [
    "conn = engine.connect()"
   ]
  },
  {
   "cell_type": "code",
   "execution_count": 16,
   "id": "45087cd5",
   "metadata": {},
   "outputs": [],
   "source": [
    "metadata = db.MetaData()"
   ]
  },
  {
   "cell_type": "code",
   "execution_count": 17,
   "id": "540e2842",
   "metadata": {},
   "outputs": [],
   "source": [
    "# we have the file now"
   ]
  },
  {
   "cell_type": "code",
   "execution_count": 18,
   "id": "a52f142e",
   "metadata": {},
   "outputs": [],
   "source": [
    "Student = db.Table('Student', metadata,\n",
    "                   db.Column('Id', db.Integer(), primary_key=True),\n",
    "                   db.Column('Name', db.String(255), nullable=False),\n",
    "                   db.Column('Major', db.String(255), default=\"Math\"),\n",
    "                   db.Column('Pass', db.Boolean(), default=True)\n",
    "                  )"
   ]
  },
  {
   "cell_type": "code",
   "execution_count": 20,
   "id": "1acdae4a",
   "metadata": {},
   "outputs": [],
   "source": [
    "metadata.create_all(engine)   # updated file now"
   ]
  },
  {
   "cell_type": "markdown",
   "id": "89969304",
   "metadata": {},
   "source": [
    "## Adding row of data"
   ]
  },
  {
   "cell_type": "code",
   "execution_count": 22,
   "id": "3e9f60f9",
   "metadata": {},
   "outputs": [],
   "source": [
    "query =  db.insert(Student).values(Id=1, Name='Lukasz', Major='English', Pass=True)\n",
    "Result = conn.execute(query)"
   ]
  },
  {
   "cell_type": "markdown",
   "id": "4d402d34",
   "metadata": {},
   "source": [
    "### Checking if data is there"
   ]
  },
  {
   "cell_type": "code",
   "execution_count": 23,
   "id": "cc55210a",
   "metadata": {},
   "outputs": [
    {
     "data": {
      "text/plain": [
       "[(1, 'Lukasz', 'English', True)]"
      ]
     },
     "execution_count": 23,
     "metadata": {},
     "output_type": "execute_result"
    }
   ],
   "source": [
    "conn.execute(Student.select()).fetchall()"
   ]
  },
  {
   "cell_type": "markdown",
   "id": "d4ec126e",
   "metadata": {},
   "source": [
    "## Adding multiple records"
   ]
  },
  {
   "cell_type": "code",
   "execution_count": 24,
   "id": "22367dc6",
   "metadata": {},
   "outputs": [],
   "source": [
    "query =  db.insert(Student)  # Create an insert query for the Student table\n",
    "\n",
    "# Create a list of multiple rows with column names and values.\n",
    "values_list = [{'Id':'2', 'Name':'Nisha', 'Major':\"Science\", 'Pass':False},\n",
    "              {'Id':'3', 'Name':'Natasha', 'Major':\"Math\", 'Pass':True},\n",
    "              {'Id':'4', 'Name':'Ben', 'Major':\"English\", 'Pass':False}]\n",
    "\n",
    "# Execute the query with a second argument as values_list. \n",
    "Result = conn.execute(query,values_list)"
   ]
  },
  {
   "cell_type": "markdown",
   "id": "321be41e",
   "metadata": {},
   "source": [
    "## Checking if data is there"
   ]
  },
  {
   "cell_type": "code",
   "execution_count": 26,
   "id": "9059c948",
   "metadata": {},
   "outputs": [
    {
     "data": {
      "text/plain": [
       "[(1, 'Lukasz', 'English', True),\n",
       " (2, 'Nisha', 'Science', False),\n",
       " (3, 'Natasha', 'Math', True),\n",
       " (4, 'Ben', 'English', False)]"
      ]
     },
     "execution_count": 26,
     "metadata": {},
     "output_type": "execute_result"
    }
   ],
   "source": [
    "conn.execute(Student.select()).fetchall()"
   ]
  },
  {
   "cell_type": "code",
   "execution_count": 27,
   "id": "ccee88d0",
   "metadata": {},
   "outputs": [
    {
     "data": {
      "text/plain": [
       "[(1, 'Lukasz', 'English', True),\n",
       " (2, 'Nisha', 'Science', False),\n",
       " (3, 'Natasha', 'Math', True),\n",
       " (4, 'Ben', 'English', False)]"
      ]
     },
     "execution_count": 27,
     "metadata": {},
     "output_type": "execute_result"
    }
   ],
   "source": [
    "conn.execute(db.select([Student])).fetchall()"
   ]
  },
  {
   "cell_type": "markdown",
   "id": "a8b89eba",
   "metadata": {},
   "source": [
    "# Querying data using SQL syntax"
   ]
  },
  {
   "cell_type": "code",
   "execution_count": 29,
   "id": "88b6c7b3",
   "metadata": {},
   "outputs": [
    {
     "data": {
      "text/plain": [
       "[(1, 'Lukasz', 'English', 1),\n",
       " (2, 'Nisha', 'Science', 0),\n",
       " (3, 'Natasha', 'Math', 1),\n",
       " (4, 'Ben', 'English', 0)]"
      ]
     },
     "execution_count": 29,
     "metadata": {},
     "output_type": "execute_result"
    }
   ],
   "source": [
    "conn.execute(\"SELECT * FROM Student\").fetchall()"
   ]
  },
  {
   "cell_type": "code",
   "execution_count": 30,
   "id": "76dbc830",
   "metadata": {},
   "outputs": [
    {
     "name": "stdout",
     "output_type": "stream",
     "text": [
      "[(1, 'Lukasz', 'English', 1), (2, 'Nisha', 'Science', 0), (3, 'Natasha', 'Math', 1), (4, 'Ben', 'English', 0)]\n"
     ]
    }
   ],
   "source": [
    "output = conn.execute(\"SELECT * FROM Student\")\n",
    "print(output.fetchall())"
   ]
  },
  {
   "cell_type": "markdown",
   "id": "16e6092a",
   "metadata": {},
   "source": [
    "## Filtering results"
   ]
  },
  {
   "cell_type": "code",
   "execution_count": null,
   "id": "61321a7a",
   "metadata": {},
   "outputs": [],
   "source": [
    "conn.exe"
   ]
  }
 ],
 "metadata": {
  "kernelspec": {
   "display_name": "Python 3 (ipykernel)",
   "language": "python",
   "name": "python3"
  },
  "language_info": {
   "codemirror_mode": {
    "name": "ipython",
    "version": 3
   },
   "file_extension": ".py",
   "mimetype": "text/x-python",
   "name": "python",
   "nbconvert_exporter": "python",
   "pygments_lexer": "ipython3",
   "version": "3.11.3"
  },
  "toc": {
   "base_numbering": 1,
   "nav_menu": {},
   "number_sections": true,
   "sideBar": true,
   "skip_h1_title": false,
   "title_cell": "Table of Contents",
   "title_sidebar": "Contents",
   "toc_cell": false,
   "toc_position": {},
   "toc_section_display": true,
   "toc_window_display": false
  }
 },
 "nbformat": 4,
 "nbformat_minor": 5
}
