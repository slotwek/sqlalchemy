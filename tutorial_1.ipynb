{
 "cells": [
  {
   "cell_type": "markdown",
   "id": "3de1af1e",
   "metadata": {},
   "source": [
    "# Load libraries"
   ]
  },
  {
   "cell_type": "code",
   "execution_count": 1,
   "id": "2cd98420",
   "metadata": {},
   "outputs": [
    {
     "data": {
      "text/plain": [
       "'1.4.39'"
      ]
     },
     "execution_count": 1,
     "metadata": {},
     "output_type": "execute_result"
    }
   ],
   "source": [
    "import sqlalchemy\n",
    "sqlalchemy.__version__"
   ]
  },
  {
   "cell_type": "markdown",
   "id": "79c80a2e",
   "metadata": {},
   "source": [
    "# Create SQLite engine\n",
    "- more about connecting to databases here: https://docs.sqlalchemy.org/en/14/core/engines.html#database-urls"
   ]
  },
  {
   "cell_type": "code",
   "execution_count": 3,
   "id": "df182db8",
   "metadata": {},
   "outputs": [],
   "source": [
    "import sqlalchemy as db\n",
    "\n",
    "engine = db.create_engine('sqlite:///european_database.sqlite')\n",
    "conn = engine.connect()"
   ]
  },
  {
   "cell_type": "code",
   "execution_count": 6,
   "id": "a535feec",
   "metadata": {},
   "outputs": [],
   "source": [
    "metadata = db.MetaData()   # extracting the metadata\n",
    "division = db.Table('divisions', metadata, autoload=True, autoload_with=engine)   # Table object"
   ]
  },
  {
   "cell_type": "code",
   "execution_count": 7,
   "id": "29fa42ca",
   "metadata": {},
   "outputs": [
    {
     "name": "stdout",
     "output_type": "stream",
     "text": [
      "Table('divisions', MetaData(), Column('division', TEXT(), table=<divisions>), Column('name', TEXT(), table=<divisions>), Column('country', TEXT(), table=<divisions>), schema=None)\n"
     ]
    }
   ],
   "source": [
    "print(repr(metadata.tables['divisions']))"
   ]
  },
  {
   "cell_type": "code",
   "execution_count": 8,
   "id": "a8ff51a1",
   "metadata": {},
   "outputs": [
    {
     "name": "stdout",
     "output_type": "stream",
     "text": [
      "['division', 'name', 'country']\n"
     ]
    }
   ],
   "source": [
    "# print column names:\n",
    "print(division.columns.keys())"
   ]
  },
  {
   "cell_type": "markdown",
   "id": "0f018e27",
   "metadata": {},
   "source": [
    "## Simple SQL query"
   ]
  },
  {
   "cell_type": "code",
   "execution_count": 9,
   "id": "aaa93f9b",
   "metadata": {},
   "outputs": [
    {
     "name": "stdout",
     "output_type": "stream",
     "text": [
      "SELECT divisions.division, divisions.name, divisions.country \n",
      "FROM divisions\n"
     ]
    }
   ],
   "source": [
    "query = division.select()  # ==> SELECT * FROM divisions\n",
    "print(query)"
   ]
  },
  {
   "cell_type": "code",
   "execution_count": 12,
   "id": "648b5987",
   "metadata": {},
   "outputs": [
    {
     "name": "stdout",
     "output_type": "stream",
     "text": [
      "SELECT divisions.division, divisions.name, divisions.country \n",
      "FROM divisions\n"
     ]
    }
   ],
   "source": [
    "# same as above\n",
    "print(db.select([division]))"
   ]
  },
  {
   "cell_type": "markdown",
   "id": "148ddad5",
   "metadata": {},
   "source": [
    "## SQL query result\n",
    "\n",
    "We will now execute the query using the connection object and extract the first five rows. \n",
    "- fetchone(): it will extract a single row at a time.\n",
    "- fetchmany(n): it will extract the n number of rows at a time.\n",
    "- fetchall(): it will extract all of the rows.  \n"
   ]
  },
  {
   "cell_type": "code",
   "execution_count": 13,
   "id": "5e3be0b3",
   "metadata": {},
   "outputs": [
    {
     "name": "stdout",
     "output_type": "stream",
     "text": [
      "[('B1', 'Division 1A', 'Belgium'), ('D1', 'Bundesliga', 'Deutschland'), ('D2', '2. Bundesliga', 'Deutschland'), ('E0', 'Premier League', 'England'), ('E1', 'EFL Championship', 'England')]\n"
     ]
    }
   ],
   "source": [
    "exe = conn.execute(query)   # executing the query\n",
    "result = exe.fetchmany(5)   # etracting top 5 results\n",
    "print(result)"
   ]
  },
  {
   "cell_type": "markdown",
   "id": "d55bf747",
   "metadata": {},
   "source": [
    "# Examples:"
   ]
  },
  {
   "cell_type": "markdown",
   "id": "927764c5",
   "metadata": {},
   "source": [
    "## Creating tables"
   ]
  },
  {
   "cell_type": "code",
   "execution_count": 14,
   "id": "7bcff2cc",
   "metadata": {},
   "outputs": [],
   "source": [
    "engine = db.create_engine('sqlite:///datacamp.sqlite')"
   ]
  },
  {
   "cell_type": "code",
   "execution_count": 15,
   "id": "a61bc855",
   "metadata": {},
   "outputs": [],
   "source": [
    "conn = engine.connect()"
   ]
  },
  {
   "cell_type": "code",
   "execution_count": 16,
   "id": "2ef5bad4",
   "metadata": {},
   "outputs": [],
   "source": [
    "metadata = db.MetaData()"
   ]
  },
  {
   "cell_type": "code",
   "execution_count": 17,
   "id": "ee22308b",
   "metadata": {},
   "outputs": [],
   "source": [
    "# we have the file now"
   ]
  },
  {
   "cell_type": "code",
   "execution_count": 18,
   "id": "326e3e5b",
   "metadata": {},
   "outputs": [],
   "source": [
    "Student = db.Table('Student', metadata,\n",
    "                   db.Column('Id', db.Integer(), primary_key=True),\n",
    "                   db.Column('Name', db.String(255), nullable=False),\n",
    "                   db.Column('Major', db.String(255), default=\"Math\"),\n",
    "                   db.Column('Pass', db.Boolean(), default=True)\n",
    "                  )"
   ]
  },
  {
   "cell_type": "code",
   "execution_count": 20,
   "id": "9bd1adb7",
   "metadata": {},
   "outputs": [],
   "source": [
    "metadata.create_all(engine)   # updated file now"
   ]
  },
  {
   "cell_type": "markdown",
   "id": "799c178e",
   "metadata": {},
   "source": [
    "## Adding row of data"
   ]
  },
  {
   "cell_type": "code",
   "execution_count": 22,
   "id": "03a283a6",
   "metadata": {},
   "outputs": [],
   "source": [
    "query =  db.insert(Student).values(Id=1, Name='Lukasz', Major='English', Pass=True)\n",
    "Result = conn.execute(query)"
   ]
  },
  {
   "cell_type": "markdown",
   "id": "ce533b0b",
   "metadata": {},
   "source": [
    "### Checking if data is there"
   ]
  },
  {
   "cell_type": "code",
   "execution_count": 23,
   "id": "d1c98ce0",
   "metadata": {},
   "outputs": [
    {
     "data": {
      "text/plain": [
       "[(1, 'Lukasz', 'English', True)]"
      ]
     },
     "execution_count": 23,
     "metadata": {},
     "output_type": "execute_result"
    }
   ],
   "source": [
    "conn.execute(Student.select()).fetchall()"
   ]
  },
  {
   "cell_type": "markdown",
   "id": "8ebafd61",
   "metadata": {},
   "source": [
    "## Adding multiple records"
   ]
  },
  {
   "cell_type": "code",
   "execution_count": 24,
   "id": "cb337bd4",
   "metadata": {},
   "outputs": [],
   "source": [
    "query =  db.insert(Student)  # Create an insert query for the Student table\n",
    "\n",
    "# Create a list of multiple rows with column names and values.\n",
    "values_list = [{'Id':'2', 'Name':'Nisha', 'Major':\"Science\", 'Pass':False},\n",
    "              {'Id':'3', 'Name':'Natasha', 'Major':\"Math\", 'Pass':True},\n",
    "              {'Id':'4', 'Name':'Ben', 'Major':\"English\", 'Pass':False}]\n",
    "\n",
    "# Execute the query with a second argument as values_list. \n",
    "Result = conn.execute(query,values_list)"
   ]
  },
  {
   "cell_type": "markdown",
   "id": "5dbfefd6",
   "metadata": {},
   "source": [
    "## Checking if data is there"
   ]
  },
  {
   "cell_type": "code",
   "execution_count": 26,
   "id": "1e0fc07b",
   "metadata": {},
   "outputs": [
    {
     "data": {
      "text/plain": [
       "[(1, 'Lukasz', 'English', True),\n",
       " (2, 'Nisha', 'Science', False),\n",
       " (3, 'Natasha', 'Math', True),\n",
       " (4, 'Ben', 'English', False)]"
      ]
     },
     "execution_count": 26,
     "metadata": {},
     "output_type": "execute_result"
    }
   ],
   "source": [
    "conn.execute(Student.select()).fetchall()"
   ]
  },
  {
   "cell_type": "code",
   "execution_count": 27,
   "id": "c765e26e",
   "metadata": {},
   "outputs": [
    {
     "data": {
      "text/plain": [
       "[(1, 'Lukasz', 'English', True),\n",
       " (2, 'Nisha', 'Science', False),\n",
       " (3, 'Natasha', 'Math', True),\n",
       " (4, 'Ben', 'English', False)]"
      ]
     },
     "execution_count": 27,
     "metadata": {},
     "output_type": "execute_result"
    }
   ],
   "source": [
    "conn.execute(db.select([Student])).fetchall()"
   ]
  },
  {
   "cell_type": "markdown",
   "id": "83ccfc39",
   "metadata": {},
   "source": [
    "# Querying data using SQL syntax"
   ]
  },
  {
   "cell_type": "code",
   "execution_count": 29,
   "id": "d9b57f20",
   "metadata": {},
   "outputs": [
    {
     "data": {
      "text/plain": [
       "[(1, 'Lukasz', 'English', 1),\n",
       " (2, 'Nisha', 'Science', 0),\n",
       " (3, 'Natasha', 'Math', 1),\n",
       " (4, 'Ben', 'English', 0)]"
      ]
     },
     "execution_count": 29,
     "metadata": {},
     "output_type": "execute_result"
    }
   ],
   "source": [
    "# one line\n",
    "conn.execute(\"SELECT * FROM Student\").fetchall()"
   ]
  },
  {
   "cell_type": "code",
   "execution_count": 30,
   "id": "ae85b653",
   "metadata": {},
   "outputs": [
    {
     "name": "stdout",
     "output_type": "stream",
     "text": [
      "[(1, 'Lukasz', 'English', 1), (2, 'Nisha', 'Science', 0), (3, 'Natasha', 'Math', 1), (4, 'Ben', 'English', 0)]\n"
     ]
    }
   ],
   "source": [
    "# 2 lines\n",
    "output = conn.execute(\"SELECT * FROM Student\")\n",
    "print(output.fetchall())"
   ]
  },
  {
   "cell_type": "markdown",
   "id": "3424f1fa",
   "metadata": {},
   "source": [
    "## Filtering results"
   ]
  },
  {
   "cell_type": "code",
   "execution_count": 32,
   "id": "073eb290",
   "metadata": {},
   "outputs": [
    {
     "data": {
      "text/plain": [
       "[('Lukasz', 'English'), ('Natasha', 'Math')]"
      ]
     },
     "execution_count": 32,
     "metadata": {},
     "output_type": "execute_result"
    }
   ],
   "source": [
    "conn.execute(\"SELECT Name, Major FROM Student WHERE Pass = True\").fetchall()"
   ]
  },
  {
   "cell_type": "markdown",
   "id": "743bfc77",
   "metadata": {},
   "source": [
    "# Using SQLAlchemy API\n",
    "- SQLAlchemy has its own API\n",
    "- plus of it is that it's only one syntax for any SQL flavour\n",
    "- con: well, it's not SQL like syntax"
   ]
  },
  {
   "cell_type": "code",
   "execution_count": 37,
   "id": "dd962d12",
   "metadata": {},
   "outputs": [
    {
     "name": "stdout",
     "output_type": "stream",
     "text": [
      "SELECT \"Student\".\"Id\", \"Student\".\"Name\", \"Student\".\"Major\", \"Student\".\"Pass\" \n",
      "FROM \"Student\" \n",
      "WHERE \"Student\".\"Major\" = :Major_1\n"
     ]
    }
   ],
   "source": [
    "# SQLAlchemy syntax is translated to SQL syntax\n",
    "query = Student.select().where(Student.columns.Major == 'English')\n",
    "print(query)"
   ]
  },
  {
   "cell_type": "code",
   "execution_count": 38,
   "id": "6a468492",
   "metadata": {},
   "outputs": [
    {
     "data": {
      "text/plain": [
       "[(1, 'Lukasz', 'English', True), (4, 'Ben', 'English', False)]"
      ]
     },
     "execution_count": 38,
     "metadata": {},
     "output_type": "execute_result"
    }
   ],
   "source": [
    "conn.execute(query).fetchall()"
   ]
  },
  {
   "cell_type": "markdown",
   "id": "21c45309",
   "metadata": {},
   "source": [
    "## Multi where statements\n",
    "\n",
    "*In our case, we are looking for students who have an English major, and they have failed.*\n",
    "- Note: not equal to '!=' True is False"
   ]
  },
  {
   "cell_type": "code",
   "execution_count": 39,
   "id": "d5f94182",
   "metadata": {},
   "outputs": [
    {
     "name": "stdout",
     "output_type": "stream",
     "text": [
      "SELECT \"Student\".\"Id\", \"Student\".\"Name\", \"Student\".\"Major\", \"Student\".\"Pass\" \n",
      "FROM \"Student\" \n",
      "WHERE \"Student\".\"Major\" = :Major_1 AND \"Student\".\"Pass\" != true\n"
     ]
    }
   ],
   "source": [
    "query = Student.select().where(db.and_(Student.columns.Major == 'English',\n",
    "                                       Student.columns.Pass != True))\n",
    "print(query)"
   ]
  },
  {
   "cell_type": "code",
   "execution_count": 40,
   "id": "151a6816",
   "metadata": {},
   "outputs": [
    {
     "data": {
      "text/plain": [
       "[(4, 'Ben', 'English', False)]"
      ]
     },
     "execution_count": 40,
     "metadata": {},
     "output_type": "execute_result"
    }
   ],
   "source": [
    "conn.execute(query).fetchall()"
   ]
  },
  {
   "cell_type": "markdown",
   "id": "f10528f5",
   "metadata": {},
   "source": [
    "| Commands | API |\n",
    "| -------- | ---- |\n",
    "| in | Student.select().where(Student.columns.Major.in_(['English','Math'])) |\n",
    "| and, or, not | Student.select().where(db.or_(Student.columns.Major == 'English', Student.columns.Pass = True)) |\n",
    "| order by | Student.select().order_by(db.desc(Student.columns.Name)) |\n",
    "| limit | Student.select().limit(3) |\n",
    "| sum, avg, count, min, max | db.select([db.func.sum(Student.columns.Id)]) |\n",
    "| group by | db.select([db.func.sum(Student.columns.Id),Student.columns.Major]).group_by(Student.columns.Pass) |\n",
    "| distinct | db.select([Student.columns.Major.distinct()]) |\n",
    "- more commands here: https://docs.sqlalchemy.org/en/14/core/expression_api.html"
   ]
  },
  {
   "cell_type": "markdown",
   "id": "d9108ba0",
   "metadata": {},
   "source": [
    "# Output to pandas DataFrame"
   ]
  },
  {
   "cell_type": "code",
   "execution_count": 41,
   "id": "5bd3bc91",
   "metadata": {},
   "outputs": [
    {
     "name": "stdout",
     "output_type": "stream",
     "text": [
      "SELECT \"Student\".\"Id\", \"Student\".\"Name\", \"Student\".\"Major\", \"Student\".\"Pass\" \n",
      "FROM \"Student\" \n",
      "WHERE \"Student\".\"Major\" IN (__[POSTCOMPILE_Major_1])\n"
     ]
    }
   ],
   "source": [
    "query = Student.select().where(Student.columns.Major.in_(['English', 'Math']))\n",
    "print(query)"
   ]
  },
  {
   "cell_type": "code",
   "execution_count": 46,
   "id": "f553fb91",
   "metadata": {},
   "outputs": [
    {
     "name": "stdout",
     "output_type": "stream",
     "text": [
      "[(1, 'Lukasz', 'English', True), (3, 'Natasha', 'Math', True), (4, 'Ben', 'English', False)]\n"
     ]
    }
   ],
   "source": [
    "output = conn.execute(query)\n",
    "results = output.fetchall()\n",
    "print(results)"
   ]
  },
  {
   "cell_type": "code",
   "execution_count": null,
   "id": "14e2bb55",
   "metadata": {},
   "outputs": [],
   "source": []
  }
 ],
 "metadata": {
  "kernelspec": {
   "display_name": "Python 3 (ipykernel)",
   "language": "python",
   "name": "python3"
  },
  "language_info": {
   "codemirror_mode": {
    "name": "ipython",
    "version": 3
   },
   "file_extension": ".py",
   "mimetype": "text/x-python",
   "name": "python",
   "nbconvert_exporter": "python",
   "pygments_lexer": "ipython3",
   "version": "3.11.3"
  },
  "toc": {
   "base_numbering": 1,
   "nav_menu": {},
   "number_sections": true,
   "sideBar": true,
   "skip_h1_title": false,
   "title_cell": "Table of Contents",
   "title_sidebar": "Contents",
   "toc_cell": false,
   "toc_position": {},
   "toc_section_display": true,
   "toc_window_display": false
  }
 },
 "nbformat": 4,
 "nbformat_minor": 5
}
